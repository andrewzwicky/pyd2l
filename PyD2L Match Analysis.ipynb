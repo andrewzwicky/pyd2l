{
 "metadata": {
  "name": ""
 },
 "nbformat": 3,
 "nbformat_minor": 0,
 "worksheets": [
  {
   "cells": [
    {
     "cell_type": "code",
     "collapsed": false,
     "input": [
      "import sys\n",
      "from urllib.request import urlopen\n",
      "\n",
      "%install_ext 'https://raw.github.com/garth5689/pyd2l/master/pyd2l/match.py'\n",
      "%install_ext 'https://raw.github.com/garth5689/pyd2l/master/pyd2l/methods.py'\n",
      "%load_ext match\n",
      "%load_ext methods\n",
      "\n",
      "from match import Match, InvalidMatchError\n",
      "from methods import unflatten\n",
      "import matplotlib.pyplot as plt\n",
      "import csv\n",
      "import numpy as np\n",
      "from itertools import accumulate\n",
      "import random\n",
      "%matplotlib inline"
     ],
     "language": "python",
     "metadata": {},
     "outputs": [
      {
       "output_type": "stream",
       "stream": "stdout",
       "text": [
        "Installed match.py. To use it, type:\n",
        "  %load_ext match\n",
        "Installed methods.py. To use it, type:"
       ]
      },
      {
       "output_type": "stream",
       "stream": "stdout",
       "text": [
        "\n",
        "  %load_ext methods\n",
        "The match module is not an IPython extension.\n",
        "The methods module is not an IPython extension.\n"
       ]
      }
     ],
     "prompt_number": 3
    },
    {
     "cell_type": "code",
     "collapsed": false,
     "input": [
      "match_text = [row.decode() for row in urlopen('https://raw.github.com/garth5689/pyd2l/master/match_cache.csv').readlines()]\n",
      "match_reader = csv.reader(match_text, delimiter=',')\n",
      "matches = [unflatten(row) for row in match_reader]"
     ],
     "language": "python",
     "metadata": {},
     "outputs": [
      {
       "ename": "StopIteration",
       "evalue": "",
       "output_type": "pyerr",
       "traceback": [
        "\u001b[0;31m---------------------------------------------------------------------------\u001b[0m\n\u001b[0;31mStopIteration\u001b[0m                             Traceback (most recent call last)",
        "\u001b[0;32m<ipython-input-4-01af9ff54d1d>\u001b[0m in \u001b[0;36m<module>\u001b[0;34m()\u001b[0m\n\u001b[1;32m      1\u001b[0m \u001b[0mmatch_text\u001b[0m \u001b[0;34m=\u001b[0m \u001b[0;34m[\u001b[0m\u001b[0mrow\u001b[0m\u001b[0;34m.\u001b[0m\u001b[0mdecode\u001b[0m\u001b[0;34m(\u001b[0m\u001b[0;34m)\u001b[0m \u001b[0;32mfor\u001b[0m \u001b[0mrow\u001b[0m \u001b[0;32min\u001b[0m \u001b[0murlopen\u001b[0m\u001b[0;34m(\u001b[0m\u001b[0;34m'https://raw.github.com/garth5689/pyd2l/master/match_cache.csv'\u001b[0m\u001b[0;34m)\u001b[0m\u001b[0;34m.\u001b[0m\u001b[0mreadlines\u001b[0m\u001b[0;34m(\u001b[0m\u001b[0;34m)\u001b[0m\u001b[0;34m]\u001b[0m\u001b[0;34m\u001b[0m\u001b[0m\n\u001b[1;32m      2\u001b[0m \u001b[0mmatch_reader\u001b[0m \u001b[0;34m=\u001b[0m \u001b[0mcsv\u001b[0m\u001b[0;34m.\u001b[0m\u001b[0mreader\u001b[0m\u001b[0;34m(\u001b[0m\u001b[0mmatch_text\u001b[0m\u001b[0;34m,\u001b[0m \u001b[0mdelimiter\u001b[0m\u001b[0;34m=\u001b[0m\u001b[0;34m','\u001b[0m\u001b[0;34m)\u001b[0m\u001b[0;34m\u001b[0m\u001b[0m\n\u001b[0;32m----> 3\u001b[0;31m \u001b[0mmatches\u001b[0m \u001b[0;34m=\u001b[0m \u001b[0;34m[\u001b[0m\u001b[0munflatten\u001b[0m\u001b[0;34m(\u001b[0m\u001b[0mrow\u001b[0m\u001b[0;34m)\u001b[0m \u001b[0;32mfor\u001b[0m \u001b[0mrow\u001b[0m \u001b[0;32min\u001b[0m \u001b[0mmatch_reader\u001b[0m\u001b[0;34m]\u001b[0m\u001b[0;34m\u001b[0m\u001b[0m\n\u001b[0m",
        "\u001b[0;32m<ipython-input-4-01af9ff54d1d>\u001b[0m in \u001b[0;36m<listcomp>\u001b[0;34m(.0)\u001b[0m\n\u001b[1;32m      1\u001b[0m \u001b[0mmatch_text\u001b[0m \u001b[0;34m=\u001b[0m \u001b[0;34m[\u001b[0m\u001b[0mrow\u001b[0m\u001b[0;34m.\u001b[0m\u001b[0mdecode\u001b[0m\u001b[0;34m(\u001b[0m\u001b[0;34m)\u001b[0m \u001b[0;32mfor\u001b[0m \u001b[0mrow\u001b[0m \u001b[0;32min\u001b[0m \u001b[0murlopen\u001b[0m\u001b[0;34m(\u001b[0m\u001b[0;34m'https://raw.github.com/garth5689/pyd2l/master/match_cache.csv'\u001b[0m\u001b[0;34m)\u001b[0m\u001b[0;34m.\u001b[0m\u001b[0mreadlines\u001b[0m\u001b[0;34m(\u001b[0m\u001b[0;34m)\u001b[0m\u001b[0;34m]\u001b[0m\u001b[0;34m\u001b[0m\u001b[0m\n\u001b[1;32m      2\u001b[0m \u001b[0mmatch_reader\u001b[0m \u001b[0;34m=\u001b[0m \u001b[0mcsv\u001b[0m\u001b[0;34m.\u001b[0m\u001b[0mreader\u001b[0m\u001b[0;34m(\u001b[0m\u001b[0mmatch_text\u001b[0m\u001b[0;34m,\u001b[0m \u001b[0mdelimiter\u001b[0m\u001b[0;34m=\u001b[0m\u001b[0;34m','\u001b[0m\u001b[0;34m)\u001b[0m\u001b[0;34m\u001b[0m\u001b[0m\n\u001b[0;32m----> 3\u001b[0;31m \u001b[0mmatches\u001b[0m \u001b[0;34m=\u001b[0m \u001b[0;34m[\u001b[0m\u001b[0munflatten\u001b[0m\u001b[0;34m(\u001b[0m\u001b[0mrow\u001b[0m\u001b[0;34m)\u001b[0m \u001b[0;32mfor\u001b[0m \u001b[0mrow\u001b[0m \u001b[0;32min\u001b[0m \u001b[0mmatch_reader\u001b[0m\u001b[0;34m]\u001b[0m\u001b[0;34m\u001b[0m\u001b[0m\n\u001b[0m",
        "\u001b[0;32m/Users/Andrew/.ipython/extensions/methods.py\u001b[0m in \u001b[0;36munflatten\u001b[0;34m(match_row_csv)\u001b[0m\n\u001b[1;32m    125\u001b[0m                 \u001b[0modds\u001b[0m \u001b[0;34m=\u001b[0m \u001b[0;34m{\u001b[0m\u001b[0mnext\u001b[0m\u001b[0;34m(\u001b[0m\u001b[0modds_iter\u001b[0m\u001b[0;34m)\u001b[0m\u001b[0;34m:\u001b[0m \u001b[0mint\u001b[0m\u001b[0;34m(\u001b[0m\u001b[0mnext\u001b[0m\u001b[0;34m(\u001b[0m\u001b[0modds_iter\u001b[0m\u001b[0;34m)\u001b[0m\u001b[0;34m)\u001b[0m \u001b[0;32mfor\u001b[0m \u001b[0m_\u001b[0m \u001b[0;32min\u001b[0m \u001b[0mrange\u001b[0m\u001b[0;34m(\u001b[0m\u001b[0;36m2\u001b[0m\u001b[0;34m)\u001b[0m\u001b[0;34m}\u001b[0m\u001b[0;34m\u001b[0m\u001b[0m\n\u001b[1;32m    126\u001b[0m             \u001b[0;32melif\u001b[0m \u001b[0mparam\u001b[0m \u001b[0;34m==\u001b[0m \u001b[0;34m'rewards'\u001b[0m\u001b[0;34m:\u001b[0m\u001b[0;34m\u001b[0m\u001b[0m\n\u001b[0;32m--> 127\u001b[0;31m                 \u001b[0mrewards_list\u001b[0m \u001b[0;34m=\u001b[0m \u001b[0;34m[\u001b[0m\u001b[0mnext\u001b[0m\u001b[0;34m(\u001b[0m\u001b[0mcsv_iter\u001b[0m\u001b[0;34m)\u001b[0m \u001b[0;32mfor\u001b[0m \u001b[0m_\u001b[0m \u001b[0;32min\u001b[0m \u001b[0mrange\u001b[0m\u001b[0;34m(\u001b[0m\u001b[0;36m74\u001b[0m\u001b[0;34m)\u001b[0m\u001b[0;34m]\u001b[0m\u001b[0;34m[\u001b[0m\u001b[0;34m:\u001b[0m\u001b[0;34m:\u001b[0m\u001b[0;34m-\u001b[0m\u001b[0;36m1\u001b[0m\u001b[0;34m]\u001b[0m\u001b[0;34m\u001b[0m\u001b[0m\n\u001b[0m\u001b[1;32m    128\u001b[0m                 \u001b[0mrewards_iter\u001b[0m \u001b[0;34m=\u001b[0m \u001b[0miter\u001b[0m\u001b[0;34m(\u001b[0m\u001b[0mrewards_list\u001b[0m\u001b[0;34m)\u001b[0m\u001b[0;34m\u001b[0m\u001b[0m\n\u001b[1;32m    129\u001b[0m                 rewards = {next(rewards_iter):\n",
        "\u001b[0;32m/Users/Andrew/.ipython/extensions/methods.py\u001b[0m in \u001b[0;36m<listcomp>\u001b[0;34m(.0)\u001b[0m\n\u001b[1;32m    125\u001b[0m                 \u001b[0modds\u001b[0m \u001b[0;34m=\u001b[0m \u001b[0;34m{\u001b[0m\u001b[0mnext\u001b[0m\u001b[0;34m(\u001b[0m\u001b[0modds_iter\u001b[0m\u001b[0;34m)\u001b[0m\u001b[0;34m:\u001b[0m \u001b[0mint\u001b[0m\u001b[0;34m(\u001b[0m\u001b[0mnext\u001b[0m\u001b[0;34m(\u001b[0m\u001b[0modds_iter\u001b[0m\u001b[0;34m)\u001b[0m\u001b[0;34m)\u001b[0m \u001b[0;32mfor\u001b[0m \u001b[0m_\u001b[0m \u001b[0;32min\u001b[0m \u001b[0mrange\u001b[0m\u001b[0;34m(\u001b[0m\u001b[0;36m2\u001b[0m\u001b[0;34m)\u001b[0m\u001b[0;34m}\u001b[0m\u001b[0;34m\u001b[0m\u001b[0m\n\u001b[1;32m    126\u001b[0m             \u001b[0;32melif\u001b[0m \u001b[0mparam\u001b[0m \u001b[0;34m==\u001b[0m \u001b[0;34m'rewards'\u001b[0m\u001b[0;34m:\u001b[0m\u001b[0;34m\u001b[0m\u001b[0m\n\u001b[0;32m--> 127\u001b[0;31m                 \u001b[0mrewards_list\u001b[0m \u001b[0;34m=\u001b[0m \u001b[0;34m[\u001b[0m\u001b[0mnext\u001b[0m\u001b[0;34m(\u001b[0m\u001b[0mcsv_iter\u001b[0m\u001b[0;34m)\u001b[0m \u001b[0;32mfor\u001b[0m \u001b[0m_\u001b[0m \u001b[0;32min\u001b[0m \u001b[0mrange\u001b[0m\u001b[0;34m(\u001b[0m\u001b[0;36m74\u001b[0m\u001b[0;34m)\u001b[0m\u001b[0;34m]\u001b[0m\u001b[0;34m[\u001b[0m\u001b[0;34m:\u001b[0m\u001b[0;34m:\u001b[0m\u001b[0;34m-\u001b[0m\u001b[0;36m1\u001b[0m\u001b[0;34m]\u001b[0m\u001b[0;34m\u001b[0m\u001b[0m\n\u001b[0m\u001b[1;32m    128\u001b[0m                 \u001b[0mrewards_iter\u001b[0m \u001b[0;34m=\u001b[0m \u001b[0miter\u001b[0m\u001b[0;34m(\u001b[0m\u001b[0mrewards_list\u001b[0m\u001b[0;34m)\u001b[0m\u001b[0;34m\u001b[0m\u001b[0m\n\u001b[1;32m    129\u001b[0m                 rewards = {next(rewards_iter):\n",
        "\u001b[0;31mStopIteration\u001b[0m: "
       ]
      }
     ],
     "prompt_number": 4
    },
    {
     "cell_type": "code",
     "collapsed": false,
     "input": [
      "accuracy_list = [match.odds[match.winner] for match in matches]\n",
      "fig, ax = plt.subplots(figsize=(8, 6))\n",
      "ax.hist(accuracy_list, \n",
      "        normed=1,\n",
      "        color=(.9, .9, .9),\n",
      "        bins=range(0, 105, 5),\n",
      "        weights=[1.0 / len(accuracy_list) for _ in range(len(accuracy_list))])\n",
      "ax.set_xlim(0, 100)\n",
      "ax.set_xticks([0, 10, 20, 30, 40, 50, 60, 70, 80, 90, 100])\n",
      "fig.patch.set_facecolor('white')\n",
      "plt.show()"
     ],
     "language": "python",
     "metadata": {},
     "outputs": []
    },
    {
     "cell_type": "code",
     "collapsed": false,
     "input": [
      "num_bets = [match.num_bettors for match in matches]\n",
      "winner_odds = [match.odds[match.winner] for match in matches]\n",
      "fig, ax = plt.subplots(figsize=(16,8))\n",
      "ax1 = plt.subplot2grid((1, 2), (0, 0))\n",
      "ax2 = plt.subplot2grid((1, 2), (0, 1))\n",
      "fig.patch.set_facecolor('white')\n",
      "ax1.plot(num_bets, winner_odds, 'ok')\n",
      "ax2.plot(num_bets, winner_odds, 'ok')\n",
      "ax2.set_xscale('log')\n",
      "plt.show()"
     ],
     "language": "python",
     "metadata": {},
     "outputs": []
    },
    {
     "cell_type": "code",
     "collapsed": false,
     "input": [
      "def pick(pick_method, match):\n",
      "    if pick_method == 'random':\n",
      "        pick = random.choice([match.winner,match.loser])\n",
      "    elif pick_method == 'favorite':\n",
      "        pick = match.favorite()\n",
      "    elif pick_method == 'underdog':\n",
      "        pick = match.underdog()\n",
      "    else:\n",
      "        raise ValueError('winner method no properly specified')\n",
      "    \n",
      "    return pick\n",
      "\n",
      "def simulate(pick_method='random', num_sims=500, **kwargs):\n",
      "    simulations = []\n",
      "    for _ in range(num_sims):\n",
      "        simulations.append(list(accumulate([match.calculate_reward(pick(pick_method, match),**kwargs) for match in matches])))\n",
      "\n",
      "    return simulations\n",
      "    \n",
      "def plot(simulations):\n",
      "    fig, ax = plt.subplots(figsize=(12, 8))\n",
      "    fig.patch.set_facecolor('white')\n",
      "    plt.subplots_adjust(wspace=0)\n",
      "    \n",
      "    ax1 = plt.subplot2grid((1, 3), (0, 0), colspan=2)\n",
      "    for sim_run in simulations:\n",
      "        ax1.plot(sim_run, linewidth=2, alpha=0.05, color='black')\n",
      "    \n",
      "    ax2 = plt.subplot2grid((1, 3), (0, 2))\n",
      "    ax2.xaxis.tick_top()\n",
      "    ax2.tick_params(axis='y', which='both', labelleft='off', labelright='on')\n",
      "    ax2.set_ylim(ax1.get_ylim())\n",
      "    ax2.hist([sim_run[-1] for sim_run in simulations], normed=1, orientation='horizontal', color=(.9, .9, .9))\n",
      "    ax2.autoscale(True,'x',False)\n",
      "    plt.setp(ax2.xaxis.get_majorticklabels(), rotation=45)\n",
      "    plt.show()"
     ],
     "language": "python",
     "metadata": {},
     "outputs": []
    },
    {
     "cell_type": "code",
     "collapsed": false,
     "input": [
      "plot(simulate(pick_method = 'random', num_sims = 500, rarity = 'Rares', num_bet=4, reward_round=True))\n",
      "plot(simulate(pick_method = 'favorite', num_sims = 500, rarity = 'Rares', num_bet=4, reward_round=True))\n",
      "plot(simulate(pick_method = 'underdog', num_sims = 500, rarity = 'Rares', num_bet=4, reward_round=True))"
     ],
     "language": "python",
     "metadata": {},
     "outputs": []
    },
    {
     "cell_type": "code",
     "collapsed": false,
     "input": [],
     "language": "python",
     "metadata": {},
     "outputs": []
    }
   ],
   "metadata": {}
  }
 ]
}